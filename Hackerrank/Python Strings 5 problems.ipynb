{
 "cells": [
  {
   "cell_type": "markdown",
   "id": "fb695aa1",
   "metadata": {},
   "source": [
    "# 1.swap Case"
   ]
  },
  {
   "cell_type": "code",
   "execution_count": null,
   "id": "0536dc8f",
   "metadata": {},
   "outputs": [],
   "source": [
    "def swap_case(s):\n",
    "    string=''\n",
    "    for i in s:\n",
    "        if(i.isupper()==True):\n",
    "            string=string+i.lower()\n",
    "        else:\n",
    "            string=string+i.upper()\n",
    "            \n",
    "   # string1=s.swapcase()\n",
    "    #return string1\n",
    "if __name__ == '__main__':\n",
    "    s = input()\n",
    "    result = swap_case(s)\n",
    "    print(result)"
   ]
  },
  {
   "cell_type": "markdown",
   "id": "97f83e92",
   "metadata": {},
   "source": [
    "# 2.What's your name\n"
   ]
  },
  {
   "cell_type": "code",
   "execution_count": null,
   "id": "198ae1a4",
   "metadata": {},
   "outputs": [],
   "source": [
    "#\n",
    "# Complete the 'print_full_name' function below.\n",
    "#\n",
    "# The function is expected to return a STRING.\n",
    "# The function accepts following parameters:\n",
    "#  1. STRING first\n",
    "#  2. STRING last\n",
    "#\n",
    "\n",
    "def print_full_name(first, last):\n",
    "    # Write your code here\n",
    "    #print('Hello'+' '+first+' '+last+'!'+' You just delved into python.')\n",
    "    print(\"Hello %s %s! You just delved into python.\" %(first,last))\n",
    "\n",
    "if __name__ == '__main__':\n",
    "    first_name = input()\n",
    "    last_name = input()\n",
    "    print_full_name(first_name, last_name)"
   ]
  },
  {
   "cell_type": "markdown",
   "id": "fb8fa5d1",
   "metadata": {},
   "source": [
    "# 3.Mutations\n"
   ]
  },
  {
   "cell_type": "code",
   "execution_count": null,
   "id": "641380a4",
   "metadata": {},
   "outputs": [],
   "source": [
    "def mutate_string(string, position, character):\n",
    "    l=list(string)\n",
    "    l[position]=character\n",
    "    string=''.join(l) \n",
    "    #print(string)\n",
    "    return string\n",
    "\n",
    "if __name__ == '__main__':\n",
    "    s = input()\n",
    "    i, c = input().split()\n",
    "    s_new = mutate_string(s, int(i), c)\n",
    "    print(s_new)"
   ]
  },
  {
   "cell_type": "markdown",
   "id": "93539386",
   "metadata": {},
   "source": [
    "# 4.String Validators"
   ]
  },
  {
   "cell_type": "code",
   "execution_count": 1,
   "id": "f76a0bbd",
   "metadata": {},
   "outputs": [
    {
     "name": "stdout",
     "output_type": "stream",
     "text": [
      "aBCD\n",
      "True\n",
      "True\n",
      "False\n",
      "True\n",
      "True\n"
     ]
    }
   ],
   "source": [
    "if __name__ == '__main__':\n",
    "    s = input()\n",
    "    alphanumeric = False\n",
    "    alphabetical = False\n",
    "    digits = False\n",
    "    lowercase = False\n",
    "    uppercase = False\n",
    "    \n",
    "    for l in s:\n",
    "        if l.isalnum():\n",
    "            alphanumeric = True\n",
    "        if l.isalpha():\n",
    "            alphabetical = True\n",
    "        if l.isdigit():\n",
    "            digits = True\n",
    "        if l.islower():\n",
    "            lowercase = True\n",
    "        if l.isupper():\n",
    "            uppercase = True\n",
    "            \n",
    "    print(f\"{alphanumeric}\\n{alphabetical}\\n{digits}\\n{lowercase}\\n{uppercase}\")\n",
    "        \n"
   ]
  },
  {
   "cell_type": "markdown",
   "id": "0cfa5c53",
   "metadata": {},
   "source": [
    "# 5.Capitalize\n"
   ]
  },
  {
   "cell_type": "code",
   "execution_count": null,
   "id": "92601b57",
   "metadata": {},
   "outputs": [],
   "source": [
    "\n",
    "\n",
    "# Complete the solve function below.\n",
    "def solve(s):\n",
    "    ans = s.split(' ')\n",
    "    ans1 = (((i.capitalize() for i in ans)))\n",
    "    return ' '.join(ans1)\n",
    "        \n",
    "\n"
   ]
  }
 ],
 "metadata": {
  "kernelspec": {
   "display_name": "Python 3 (ipykernel)",
   "language": "python",
   "name": "python3"
  },
  "language_info": {
   "codemirror_mode": {
    "name": "ipython",
    "version": 3
   },
   "file_extension": ".py",
   "mimetype": "text/x-python",
   "name": "python",
   "nbconvert_exporter": "python",
   "pygments_lexer": "ipython3",
   "version": "3.11.5"
  }
 },
 "nbformat": 4,
 "nbformat_minor": 5
}
